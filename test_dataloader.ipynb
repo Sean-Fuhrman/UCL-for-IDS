{
 "cells": [
  {
   "cell_type": "code",
   "execution_count": 3,
   "metadata": {},
   "outputs": [],
   "source": [
    "from dataloader import mnistLoader, plotPerformance\n",
    "import numpy as np\n",
    "import pdb\n",
    "import torch\n",
    "import random\n",
    "from torchvision import datasets, transforms\n",
    "import pprint\n"
   ]
  },
  {
   "cell_type": "code",
   "execution_count": 4,
   "metadata": {},
   "outputs": [],
   "source": [
    "#Load BASE MNIST data\n",
    "\n",
    "transform = transforms.ToTensor()\n",
    "\n",
    "# load the training and test datasets\n",
    "labeledData   = datasets.MNIST(root='data', train=False,download=True, transform=transform)\n",
    "unlabeledData = datasets.MNIST(root='data', train=True, download=True, transform=transform)"
   ]
  },
  {
   "cell_type": "code",
   "execution_count": 5,
   "metadata": {},
   "outputs": [
    {
     "name": "stdout",
     "output_type": "stream",
     "text": [
      "Number of output:  10\n",
      "Number of labeled data:  5000\n",
      "Number of unlabeled data:  65000\n",
      "Number of unlabeled data batch:  65\n"
     ]
    }
   ],
   "source": [
    "# Create data stream\n",
    "dataStream = mnistLoader(labeledData, unlabeledData, nEachClassSamples = 500)"
   ]
  },
  {
   "cell_type": "code",
   "execution_count": 6,
   "metadata": {},
   "outputs": [
    {
     "name": "stdout",
     "output_type": "stream",
     "text": [
      "Number of task:  5\n",
      "Number of labeled data per task:  1000\n",
      "Number of unlabeled data per task:  12000\n",
      "Number of unlabeled data batch per task:  12\n",
      "Number of unlabeled data test:  5000\n"
     ]
    }
   ],
   "source": [
    "# Load Split MNIST data\n",
    "\n",
    "dataStream.createTask(nTask = 5, taskList = [[0,1],[2,3],[4,5],[6,7],[8,9]], taskType = 3)\n",
    "# Note this has labeled data split per task"
   ]
  },
  {
   "cell_type": "code",
   "execution_count": 7,
   "metadata": {},
   "outputs": [
    {
     "name": "stdout",
     "output_type": "stream",
     "text": [
      "dict_keys(['batchSize', 'labeledData', 'labeledLabel', 'classes', 'nOutput', 'nLabeledData', 'unlabeledData', 'unlabeledLabel', 'memoryData', 'nUnlabeledData', 'nBatch', 'taskIndicator', 'nTask', 'nLabeledDataPerTask', 'nBatchPerTask', 'nUnlabeledDataPerTask', 'nOutputPerTask', 'unlabeledDataTest', 'unlabeledLabelTest', 'nUnlabeledDataTest'])\n"
     ]
    }
   ],
   "source": [
    "pprint.pprint(dataStream.__dict__.keys())"
   ]
  },
  {
   "cell_type": "code",
   "execution_count": 8,
   "metadata": {},
   "outputs": [
    {
     "name": "stdout",
     "output_type": "stream",
     "text": [
      "Number of output:  10\n",
      "Number of labeled data:  5000\n",
      "Number of unlabeled data:  65000\n",
      "Number of unlabeled data batch:  65\n",
      "Number of task:  5\n",
      "Number of labeled data per task:  1000\n",
      "Number of unlabeled data per task:  12000\n",
      "Number of unlabeled data batch per task:  12\n",
      "Number of unlabeled data test:  5000\n"
     ]
    }
   ],
   "source": [
    "# Load Permuted MNIST data\n",
    "dataStream = mnistLoader(labeledData, unlabeledData, nEachClassSamples = 500)\n",
    "dataStream.createTask(nTask = 5, taskList = [], taskType = 1)"
   ]
  },
  {
   "cell_type": "code",
   "execution_count": 9,
   "metadata": {},
   "outputs": [
    {
     "name": "stdout",
     "output_type": "stream",
     "text": [
      "Number of output:  10\n",
      "Number of labeled data:  5000\n",
      "Number of unlabeled data:  65000\n",
      "Number of unlabeled data batch:  65\n",
      "Number of task:  4\n",
      "Number of labeled data per task:  1250\n",
      "Number of unlabeled data per task:  15000\n",
      "Number of unlabeled data batch per task:  15\n",
      "Number of unlabeled data test:  4000\n"
     ]
    }
   ],
   "source": [
    "# Load Rotated MNIST data\n",
    "dataStream = mnistLoader(labeledData, unlabeledData, nEachClassSamples = 500)\n",
    "dataStream.createTask(nTask = 4, taskList = [[0,30],[31,60],[61,90],[91,120]], taskType = 2)"
   ]
  }
 ],
 "metadata": {
  "kernelspec": {
   "display_name": "cl4ids",
   "language": "python",
   "name": "python3"
  },
  "language_info": {
   "codemirror_mode": {
    "name": "ipython",
    "version": 3
   },
   "file_extension": ".py",
   "mimetype": "text/x-python",
   "name": "python",
   "nbconvert_exporter": "python",
   "pygments_lexer": "ipython3",
   "version": "3.11.8"
  }
 },
 "nbformat": 4,
 "nbformat_minor": 2
}
